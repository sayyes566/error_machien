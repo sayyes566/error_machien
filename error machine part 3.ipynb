{
 "cells": [
  {
   "cell_type": "code",
   "execution_count": 1,
   "metadata": {
    "collapsed": true
   },
   "outputs": [],
   "source": [
    "from pyspark import SparkContext, SparkConf #spark\n",
    "import pydoop.hdfs as hdfs #for saving local file as hdfs \n",
    "from pyspark.sql import SQLContext # for data frame\n",
    "import urllib #for imitating hdfs auto escape string\n",
    "import re #for escape string \n"
   ]
  },
  {
   "cell_type": "code",
   "execution_count": 2,
   "metadata": {
    "collapsed": true
   },
   "outputs": [],
   "source": []
  },
  {
   "cell_type": "code",
   "execution_count": 3,
   "metadata": {
    "collapsed": true
   },
   "outputs": [],
   "source": [
    "conf = SparkConf().setAppName(\"error_machine_part_2\")\n",
    "sc = SparkContext(conf=conf)"
   ]
  },
  {
   "cell_type": "code",
   "execution_count": 4,
   "metadata": {
    "collapsed": true
   },
   "outputs": [],
   "source": [
    "def Count_Lines(df_path):\n",
    "    rdd_hdfs = sc.textFile(df_path)\n",
    "    count_lines = rdd_hdfs.count()\n",
    "    return count_lines"
   ]
  },
  {
   "cell_type": "code",
   "execution_count": 18,
   "metadata": {
    "collapsed": true
   },
   "outputs": [],
   "source": [
    "def Word_Count_Each_Text(df_path):\n",
    "    '''\n",
    "    [(u'', 483648),\n",
    "     (u'virtual', 11546),\n",
    "     (u'jerry', 11365),\n",
    "     (u'Jan', 11364),\n",
    "     (u'machine', 11364),\n",
    "     (u'NetworkManager', 4390),\n",
    "     (u'info', 4327)]\n",
    "    '''\n",
    "    rdd_hdfs = sc.textFile(df_path)\n",
    "    count_lines = rdd_hdfs.count()\n",
    "    # spliting by special characters and number\n",
    "    rdd_split_map = rdd_hdfs.flatMap(lambda x: re.split(r'[`\\- =~!@#$%^&*()_+\\[\\]{};\\'\\\\:\"|<,./<>?0-9]', x),1)\n",
    "    #ready to count\n",
    "    rdd_count_map = rdd_split_map.map(lambda x: (x, 1))\n",
    "    #mapping each key and counting it\n",
    "    res_reduce = rdd_count_map.reduceByKey(lambda a, b: a+b )\n",
    "    # desc sorting by counting number\n",
    "    res_reduce = res_reduce.sortBy(lambda c: c[1], False)\n",
    "    return res_reduce"
   ]
  },
  {
   "cell_type": "code",
   "execution_count": 19,
   "metadata": {
    "collapsed": true
   },
   "outputs": [],
   "source": [
    "def Pick_Top_Text(rdd_wc_reduce, count_lines):\n",
    "    #picking string which always show and counting bigger than file lines  (deviation value 2)\n",
    "    pick_top_string_map = rdd_wc_reduce.filter(lambda x: x[1] >= count_lines-2)\n",
    "    pick_top_string_map.collect()\n",
    "    return pick_top_string_map.collect()"
   ]
  },
  {
   "cell_type": "code",
   "execution_count": 153,
   "metadata": {
    "collapsed": true
   },
   "outputs": [],
   "source": [
    "def Map_Filter_Top_Texts(line, list_tops):\n",
    "    '''\n",
    "    filter all the top text \n",
    "    if len(text) > len(file lines):\n",
    "    then delete text\n",
    "    '''\n",
    "    res_str = \"\"\n",
    "    for text in line:\n",
    "        flag = 0\n",
    "        if str(text) == \"\":\n",
    "            continue;\n",
    "        for top in list_tops:\n",
    "            #res_str +='----' +top[0]\n",
    "            if top[0] == str(text):\n",
    "\n",
    "                flag = 1\n",
    "                break;\n",
    "        if(flag == 1):\n",
    "            continue;\n",
    "        else:\n",
    "            res_str +=\",\" + str(text)\n",
    "    return res_str[1:]"
   ]
  },
  {
   "cell_type": "code",
   "execution_count": 122,
   "metadata": {
    "collapsed": true
   },
   "outputs": [],
   "source": [
    "def Gen_Relative_Table(col_rdd):\n",
    "    '''\n",
    "    0 1 2\n",
    "    A B C\n",
    "    \n",
    "    relative[A] = [B]\n",
    "    relative[B] = [A,C]\n",
    "    relative[C] = [B]\n",
    "    '''\n",
    "    dist_text = {}\n",
    "    for str_line in col_rdd:\n",
    "        line = str_line.split(',')\n",
    "        for i in range(0,len(line)):\n",
    "            now = line[i]\n",
    "            if now not in dist_text:\n",
    "                dist_text[now] = []\n",
    "            if i == 0 and i != len(line) -1:\n",
    "                dist_text[now].append( line[i+1] )\n",
    "            elif i == len(line) -1 :\n",
    "                dist_text[now].append( line[i-1] )\n",
    "            else:\n",
    "                dist_text[now].append( line[i+1] )\n",
    "                dist_text[now].append( line[i-1] )\n",
    "\n",
    "    for text in dist_text:\n",
    "        set_dist = set(dist_text[text])\n",
    "        dist_text[text] = list(set_dist)\n",
    "    return dist_text"
   ]
  },
  {
   "cell_type": "code",
   "execution_count": 218,
   "metadata": {
    "collapsed": true
   },
   "outputs": [],
   "source": [
    "def Count_Each_Line_Score(col_rdd, relative_table):\n",
    "    '''\n",
    "    for each text\n",
    "        query relative table if not found this keyword ->score = 0\n",
    "        if found this keyword and find it's relative world -> score += 1\n",
    "    line score = text score / (line length - 1)\n",
    "    '''\n",
    "    list_res = []\n",
    "    list_zero_line_number = []\n",
    "    list_zero_line_content = []\n",
    "    number = 0\n",
    "    for str_line in col_rdd:\n",
    "        number += 1\n",
    "        line = str_line.split(',')\n",
    "        score_line = 0.0\n",
    "        len_line = len(line)\n",
    "        if len_line > 1:\n",
    "            for i in range(0,len_line):\n",
    "                now = line[i]\n",
    "                if now not in relative_table:\n",
    "                    score_line += 0\n",
    "                elif i != (len_line -1):\n",
    "                    next = line[i+1]\n",
    "                    for relative in relative_table[now]:\n",
    "                        if next == relative:\n",
    "                            score_line += 1\n",
    "            score_line = score_line/(len_line-1)\n",
    "        list_res.append(score_line)\n",
    "        if score_line == 0.0:\n",
    "            list_zero_line_number.append(number)\n",
    "            list_zero_line_content.append(str_line)\n",
    "    return (list_res,list_zero_line_number,list_zero_line_content)\n",
    "\n",
    "            \n",
    "        "
   ]
  },
  {
   "cell_type": "code",
   "execution_count": 142,
   "metadata": {
    "collapsed": true
   },
   "outputs": [],
   "source": [
    "def Delete_Top_Text_for_Each_Line(df_path, top_collect):\n",
    "    rdd_hdfs = sc.textFile(df_path)\n",
    "    # spliting by special characters\n",
    "    rdd_sp_map = rdd_hdfs.map(lambda x: re.split(r'[`\\- =~!@#$%^&*()_+\\[\\]{};\\'\\\\:\"|<,./<>?0-9]', x),1)\n",
    "    #filter all the top text \n",
    "    rdd_fil_map = rdd_sp_map.map(lambda x:Map_Filter_Top_Texts(x, top_collect) )\n",
    "    return rdd_fil_map"
   ]
  },
  {
   "cell_type": "code",
   "execution_count": 125,
   "metadata": {
    "collapsed": true
   },
   "outputs": [],
   "source": [
    "def Gen_Relative_Table_by_Filter_Map(rdd_fil_map):\n",
    "    col_rdd_fil = rdd_fil_map.collect()\n",
    "    rdd_relative_table = Gen_Relative_Table(col_rdd_fil)\n",
    "    return rdd_relative_table"
   ]
  },
  {
   "cell_type": "code",
   "execution_count": 158,
   "metadata": {
    "collapsed": true
   },
   "outputs": [],
   "source": [
    "def Main_Normal_Case(input_path):\n",
    "    count_lines = Count_Lines(input_path)\n",
    "    red_wordcount = Word_Count_Each_Text(input_path)\n",
    "    col_red_top = Pick_Top_Text(red_wordcount, count_lines)\n",
    "    rdd_map_filiter_top = Delete_Top_Text_for_Each_Line(input_path, col_red_top)\n",
    "    table = Gen_Relative_Table_by_Filter_Map(rdd_map_filiter_top)\n",
    "    return table"
   ]
  },
  {
   "cell_type": "code",
   "execution_count": 219,
   "metadata": {
    "collapsed": true
   },
   "outputs": [],
   "source": [
    "def Main_Compare_Case(input_path, normal_path):\n",
    "    count_lines = Count_Lines(input_path)\n",
    "    red_wordcount = Word_Count_Each_Text(input_path)\n",
    "    col_red_top = Pick_Top_Text(red_wordcount, count_lines)\n",
    "    rdd_map_filiter_top = Delete_Top_Text_for_Each_Line(input_path, col_red_top)\n",
    "    main_relative_table = Main_Normal_Case(normal_path)\n",
    "    list_score,list_zore_number,list_zero_line_content = Count_Each_Line_Score(rdd_map_filiter_top.collect(), main_relative_table)\n",
    "    return list_score,list_zore_number,list_zero_line_content"
   ]
  },
  {
   "cell_type": "code",
   "execution_count": null,
   "metadata": {
    "collapsed": true
   },
   "outputs": [],
   "source": []
  },
  {
   "cell_type": "code",
   "execution_count": 160,
   "metadata": {
    "collapsed": true
   },
   "outputs": [],
   "source": [
    "inputPath_normal = '/user/spark/input/log_normal'"
   ]
  },
  {
   "cell_type": "code",
   "execution_count": 161,
   "metadata": {
    "collapsed": true
   },
   "outputs": [],
   "source": [
    "inputPath_compare = '/user/spark/input/log_error'"
   ]
  },
  {
   "cell_type": "code",
   "execution_count": 151,
   "metadata": {
    "collapsed": true
   },
   "outputs": [],
   "source": [
    "rdd_map_filiter_top_com = Main_Compare_Case(inputPath_compare)"
   ]
  },
  {
   "cell_type": "code",
   "execution_count": 154,
   "metadata": {
    "collapsed": false
   },
   "outputs": [
    {
     "data": {
      "text/plain": [
       "['anacron,Job,cron,daily,terminated',\n",
       " 'anacron,Normal,exit,job,run',\n",
       " 'dhclient,DHCPREQUEST,of,on,ens,to,port,xid,x,ce,aa',\n",
       " 'dhclient,DHCPACK,of,from',\n",
       " 'NetworkManager,info,address',\n",
       " 'NetworkManager,info,plen',\n",
       " 'NetworkManager,info,gateway']"
      ]
     },
     "execution_count": 154,
     "metadata": {},
     "output_type": "execute_result"
    }
   ],
   "source": [
    "rdd_map_filiter_top_com.take(7)"
   ]
  },
  {
   "cell_type": "code",
   "execution_count": 220,
   "metadata": {
    "collapsed": false
   },
   "outputs": [],
   "source": [
    "score_lines, list_zero_number,list_zero_line_content = Main_Compare_Case(inputPath_compare, inputPath_normal)"
   ]
  },
  {
   "cell_type": "code",
   "execution_count": 212,
   "metadata": {
    "collapsed": false
   },
   "outputs": [
    {
     "name": "stdout",
     "output_type": "stream",
     "text": [
      "[1.0, 1.0, 1.0, 1.0, 1.0, 1.0, 1.0, 1.0, 1.0, 1.0, 1.0, 1.0, 1.0, 1.0, 1.0, 1.0, 1.0, 1.0, 1.0, 1.0, 1.0, 1.0, 1.0, 1.0, 0.3, 1.0, 1.0, 1.0, 1.0, 1.0, 1.0, 1.0, 1.0, 1.0, 1.0, 1.0, 1.0, 1.0, 1.0, 1.0, 1.0, 1.0, 1.0, 1.0, 0.3, 1.0, 1.0, 1.0, 1.0, 1.0, 0.3, 1.0, 1.0, 1.0, 1.0, 1.0, 1.0, 1.0, 1.0, 1.0, 1.0, 1.0, 1.0, 1.0, 1.0, 1.0, 1.0, 1.0, 1.0, 1.0, 1.0, 1.0, 1.0, 0.3, 1.0, 1.0, 1.0, 1.0, 1.0, 1.0, 1.0, 1.0, 1.0, 1.0, 1.0, 1.0, 1.0, 1.0, 1.0, 1.0, 1.0, 1.0, 1.0, 1.0, 0.3, 1.0, 1.0, 1.0, 1.0, 1.0, 1.0, 1.0, 1.0, 1.0, 1.0, 1.0, 1.0, 1.0, 1.0, 1.0, 1.0, 1.0, 1.0, 1.0, 1.0, 1.0, 1.0, 1.0, 0.3, 1.0, 1.0, 1.0, 1.0, 1.0, 0.3, 1.0, 1.0, 1.0, 1.0, 1.0, 1.0, 1.0, 1.0, 1.0, 1.0, 1.0, 1.0, 1.0, 1.0, 1.0, 1.0, 1.0, 1.0, 1.0, 1.0, 1.0, 1.0, 0.3, 1.0, 1.0, 1.0, 1.0, 1.0, 1.0, 1.0, 1.0, 1.0, 1.0, 1.0, 1.0, 1.0, 1.0, 1.0, 1.0, 1.0, 1.0, 1.0, 0.3, 1.0, 1.0, 1.0, 1.0, 1.0, 1.0, 1.0, 1.0, 1.0, 1.0, 1.0, 1.0, 1.0, 1.0, 1.0, 1.0, 1.0, 1.0, 1.0, 1.0, 1.0, 1.0, 1.0, 1.0, 1.0, 1.0, 1.0, 1.0, 1.0, 0.3, 1.0, 1.0, 1.0, 1.0, 1.0, 1.0, 0.3, 1.0, 1.0, 1.0, 1.0, 1.0, 1.0, 1.0, 1.0, 1.0, 1.0, 1.0, 1.0, 1.0, 1.0, 1.0, 1.0, 1.0, 1.0, 0.3, 1.0, 1.0, 1.0, 1.0, 1.0, 1.0, 1.0, 1.0, 1.0, 1.0, 1.0, 1.0, 1.0, 1.0, 1.0, 1.0, 1.0, 1.0, 1.0, 1.0, 1.0, 1.0, 1.0, 0.3, 1.0, 1.0, 1.0, 1.0, 1.0, 1.0, 1.0, 1.0, 1.0, 1.0, 1.0, 1.0, 1.0, 1.0, 1.0, 1.0, 1.0, 1.0, 1.0, 1.0, 1.0, 1.0, 1.0, 0.3, 1.0, 1.0, 1.0, 1.0, 1.0, 1.0, 1.0, 1.0, 1.0, 1.0, 1.0, 0.3, 1.0, 1.0, 1.0, 1.0, 1.0, 1.0, 1.0, 1.0, 1.0, 1.0, 1.0, 1.0, 1.0, 1.0, 1.0, 1.0, 1.0, 1.0, 1.0, 1.0, 1.0, 1.0, 1.0, 1.0, 1.0, 1.0, 1.0, 1.0, 1.0, 1.0, 1.0, 1.0, 1.0, 1.0, 1.0, 1.0, 0.3, 1.0, 1.0, 1.0, 1.0, 1.0, 1.0, 1.0, 1.0, 1.0, 1.0, 1.0, 1.0, 1.0, 1.0, 1.0, 1.0, 1.0, 1.0, 1.0, 1.0, 1.0, 1.0, 1.0, 1.0, 1.0, 1.0, 1.0, 1.0, 1.0, 1.0, 0.3, 1.0, 1.0, 1.0, 1.0, 1.0, 1.0, 1.0, 1.0, 1.0, 1.0, 1.0, 1.0, 1.0, 1.0, 1.0, 1.0, 1.0, 1.0, 1.0, 1.0, 1.0, 1.0, 1.0, 0.3, 1.0, 1.0, 1.0, 1.0, 1.0, 1.0, 1.0, 1.0, 1.0, 1.0, 1.0, 1.0, 1.0, 1.0, 1.0, 1.0, 1.0, 1.0, 1.0, 1.0, 1.0, 1.0, 1.0, 1.0, 1.0, 1.0, 1.0, 1.0, 1.0, 0.3, 1.0, 1.0, 1.0, 1.0, 1.0, 1.0, 1.0, 1.0, 1.0, 1.0, 1.0, 1.0, 1.0, 1.0, 1.0, 1.0, 1.0, 1.0, 1.0, 0.3, 1.0, 1.0, 1.0, 1.0, 0.3, 1.0, 1.0, 1.0, 1.0, 1.0, 1.0, 1.0, 1.0, 1.0, 1.0, 1.0, 1.0, 1.0, 1.0, 1.0, 1.0, 1.0, 1.0, 1.0, 1.0, 1.0, 0.9, 1.0, 0.75, 0.0, 0.0, 1.0, 0.0, 0.0, 0.0, 0.0, 0.0, 0.0, 0.0, 0.0, 0.0, 0.0, 0.0, 0.0, 0.0, 0.0, 0.0, 0.0, 0.0, 0.2, 0.5, 0.75, 0.8333333333333334, 0.75, 0.75, 0.75, 1.0, 1.0, 0.8, 0.75, 0.0, 0.0, 0.0, 0.0, 0.0, 0.0, 0.5, 0.5, 0.75, 0.8333333333333334, 0.5, 0.5, 0.9285714285714286, 0.9411764705882353, 0.8571428571428571, 0.8333333333333334, 0.875, 0.8571428571428571, 0.5, 0.6666666666666666, 0.6666666666666666, 0.8333333333333334, 0.8888888888888888, 0.8333333333333334, 0.9, 0.9333333333333333, 0.8571428571428571, 0.75, 0.75, 0.8, 0.7142857142857143, 0.5, 0.75, 0.75, 0.8, 0.8333333333333334, 0.875, 0.8333333333333334, 0.75, 0.0, 0.6666666666666666, 0.75, 0.8333333333333334, 0.8, 0.75, 0.75, 0.6666666666666666, 0.0, 0.0, 0.0, 0.0, 0.6666666666666666, 0.6666666666666666, 0.8, 0.0, 0.5714285714285714, 0.75, 0.6666666666666666, 0.0, 0.4, 0.8571428571428571, 0.7142857142857143, 0.5, 0.5, 0.75, 0.8, 0.0, 0.5, 0.3333333333333333, 0.5, 0.8, 0.8, 0.0, 0.0, 0.5, 0.5, 0.5, 0.0, 0.0, 0.0, 0.0, 0.0, 0.0, 0.0, 0.0, 0.5, 0.0, 0.0, 0.6666666666666666, 0.6666666666666666, 0.6666666666666666, 0.0, 0.0, 0.0, 0.0, 0.0, 0.5, 0.3333333333333333, 0.5, 0.8333333333333334, 0.7142857142857143, 0.5, 0.5, 1.0, 0.0, 0.0, 0.0, 0.0, 0.6666666666666666, 0.6666666666666666, 0.8888888888888888, 0.8, 0.0, 0.0, 0.0, 0.0, 0.7777777777777778, 0.9, 1.0, 1.0, 1.0, 0.875, 1.0, 1.0, 1.0, 0.14285714285714285, 0.8888888888888888, 0.0, 0.6, 0.75, 0.75, 0.625, 0.6, 0.6666666666666666, 0.875, 0.375, 0.8333333333333334, 0.6666666666666666, 0.75, 0.6666666666666666, 0.8888888888888888, 0.25, 1.0, 0.875, 0.6666666666666666, 0.6, 0.8, 0.6666666666666666, 0.16666666666666666, 0.6666666666666666, 0.8, 0.75, 0.875, 1.0, 0.6666666666666666, 0.7142857142857143, 0.8571428571428571, 1.0, 1.0, 0.6666666666666666, 1.0, 1.0, 0.0, 0.75, 0.25, 1.0, 0.0, 1.0, 1.0, 1.0, 0.0, 0.0, 0.5, 0.0, 0.0, 0.0, 1.0, 1.0, 0.5, 0.0, 1.0, 1.0, 1.0, 1.0, 1.0, 1.0, 0.0, 1.0, 0.0, 1.0, 0.0, 0.0, 0.5, 1.0, 0.0, 0.0, 1.0, 0.0, 1.0, 1.0, 0.3, 0.3333333333333333, 1.0, 0.3333333333333333, 0.42857142857142855, 0.4444444444444444, 0.6666666666666666, 0.375, 1.0, 0.375, 0.375, 1.0, 0.375, 1.0, 0.42857142857142855, 0.42857142857142855, 1.0, 0.5, 0.5555555555555556, 1.0, 0.125, 0.42857142857142855, 0.4444444444444444, 0.3333333333333333, 0.2857142857142857, 0.2857142857142857, 0.5, 0.5555555555555556, 0.2857142857142857, 0.25, 0.2857142857142857, 0.375, 0.3333333333333333, 1.0, 0.2, 1.0, 0.25, 0.2, 0.42857142857142855, 0.25, 0.4, 0.5714285714285714, 0.42857142857142855, 0.3333333333333333, 0.5714285714285714, 0.5714285714285714, 1.0, 0.375, 1.0, 0.3333333333333333, 0.42857142857142855, 1.0, 1.0, 1.0, 1.0, 1.0, 1.0, 0.0, 1.0, 0.0, 1.0, 1.0, 0.0, 0.0, 1.0, 1.0, 1.0, 1.0, 1.0, 0.375, 0.0, 0.5, 0.5, 1.0, 0.5555555555555556, 1.0, 0.5714285714285714, 0.3333333333333333, 1.0, 0.5, 0.5714285714285714, 1.0, 0.0, 0.42857142857142855, 0.0, 1.0, 0.0, 1.0, 1.0, 0.0, 0.0, 0.0, 1.0, 0.0, 1.0, 0.0, 1.0, 0.0, 0.0, 1.0, 0.0, 0.0, 0.0, 0.0, 0.0, 1.0, 1.0, 0.0, 0.0, 0.0, 1.0, 0.0, 0.0, 0.0, 0.0, 0.0, 1.0, 1.0, 0.0, 1.0, 0.0, 1.0, 0.0, 1.0, 1.0, 0.5, 1.0, 0.0, 0.0, 0.0, 0.0, 0.0, 0.0, 0.0, 1.0, 0.0, 0.0, 0.0, 0.0, 0.0, 0.0, 0.0, 0.0, 0.0, 0.0, 0.0, 0.0, 1.0, 1.0, 1.0, 0.75, 0.0, 1.0, 0.0, 1.0, 0.0, 0.0, 0.0, 1.0, 1.0, 0.0, 0.0, 0.0, 0.0, 1.0, 1.0, 1.0, 0.0, 1.0, 1.0, 0.0, 0.0, 0.0, 0.0, 0.0, 0.0, 0.0, 1.0, 1.0, 1.0, 0.5, 1.0, 0.0, 1.0, 0.0, 0.0, 0.0, 0.7142857142857143, 1.0, 1.0, 1.0, 1.0, 1.0, 0.16666666666666666, 0.16666666666666666, 0.2, 0.3, 1.0, 1.0, 1.0, 1.0, 1.0, 1.0, 1.0, 1.0, 1.0, 1.0, 1.0, 1.0, 1.0, 1.0, 1.0, 1.0, 1.0, 1.0, 1.0, 1.0, 0.3, 1.0, 1.0, 1.0, 1.0, 1.0, 1.0, 1.0, 1.0, 1.0, 0.3, 1.0, 1.0, 1.0, 1.0, 1.0, 1.0, 1.0, 1.0, 1.0, 1.0, 1.0, 1.0, 1.0, 1.0, 1.0, 1.0, 1.0, 1.0, 1.0, 1.0, 1.0, 1.0, 1.0, 0.3, 1.0, 1.0, 1.0, 1.0, 1.0, 1.0, 1.0, 1.0, 1.0, 1.0, 1.0, 1.0, 1.0, 1.0, 1.0, 1.0, 1.0, 1.0, 1.0, 1.0, 1.0, 1.0, 1.0, 1.0, 1.0, 1.0, 1.0, 1.0, 1.0, 0.3, 1.0, 0.3, 1.0, 1.0, 1.0, 1.0, 1.0, 1.0, 1.0, 1.0, 1.0, 1.0, 1.0, 1.0, 1.0, 1.0, 1.0, 1.0, 1.0, 1.0, 1.0, 1.0, 1.0, 1.0, 1.0, 0.3, 1.0, 1.0, 1.0, 1.0, 1.0, 1.0, 1.0, 1.0, 1.0, 1.0, 1.0, 1.0, 1.0, 1.0, 1.0, 1.0, 1.0, 1.0, 1.0, 1.0, 1.0, 1.0, 1.0, 0.3, 1.0, 1.0, 1.0, 1.0, 1.0, 1.0, 1.0, 1.0, 1.0, 1.0, 1.0, 1.0, 1.0, 1.0, 1.0, 1.0, 1.0, 1.0, 1.0, 1.0, 1.0, 1.0, 1.0, 0.3, 1.0, 0.3, 1.0, 1.0, 1.0, 1.0, 1.0, 1.0, 1.0, 1.0, 1.0, 1.0, 1.0, 1.0, 1.0, 1.0, 1.0, 1.0, 1.0, 1.0, 1.0, 1.0, 1.0, 1.0, 1.0, 0.3, 1.0, 1.0, 1.0, 1.0, 1.0, 1.0, 1.0, 1.0, 1.0, 1.0, 1.0, 1.0, 1.0, 1.0, 1.0, 1.0, 1.0, 1.0, 1.0, 1.0, 1.0, 1.0, 1.0, 0.3, 1.0, 1.0, 1.0, 1.0, 1.0, 1.0, 1.0, 1.0, 1.0, 1.0, 1.0, 1.0, 1.0, 1.0, 1.0, 1.0, 1.0, 1.0, 1.0, 1.0, 1.0, 1.0, 0.3, 1.0, 1.0, 0.3, 1.0, 1.0, 1.0, 1.0, 1.0, 1.0, 1.0, 1.0, 1.0, 1.0, 1.0, 1.0, 1.0, 1.0, 1.0, 1.0, 1.0, 1.0, 1.0, 1.0, 1.0, 1.0, 1.0, 0.3, 1.0, 1.0, 1.0, 1.0, 1.0, 1.0, 1.0, 1.0, 1.0, 1.0, 1.0, 1.0, 1.0, 1.0, 1.0, 1.0, 1.0, 1.0, 1.0, 1.0, 1.0, 1.0, 1.0, 0.3, 1.0, 1.0, 1.0, 1.0, 1.0, 1.0, 1.0, 1.0, 1.0, 1.0, 1.0, 1.0, 1.0, 1.0, 1.0, 1.0, 1.0, 1.0, 1.0, 1.0, 1.0, 1.0, 0.3, 1.0, 0.3, 1.0, 1.0, 1.0, 1.0, 1.0, 1.0, 1.0, 1.0, 1.0, 1.0, 1.0, 1.0, 1.0, 1.0, 1.0, 1.0, 1.0, 1.0, 1.0, 1.0, 1.0, 1.0, 1.0, 0.3, 1.0, 1.0, 1.0, 1.0, 1.0, 1.0, 1.0, 1.0, 1.0, 1.0, 1.0, 1.0, 1.0, 1.0, 1.0, 1.0, 1.0, 1.0, 1.0, 1.0, 1.0, 1.0, 1.0, 1.0, 0.3, 1.0, 1.0, 1.0, 1.0, 1.0, 1.0, 1.0, 1.0, 1.0, 1.0, 1.0, 1.0, 1.0, 1.0, 1.0, 1.0, 1.0, 1.0, 0.3, 1.0, 1.0, 1.0, 1.0, 1.0, 1.0, 1.0, 1.0, 1.0, 1.0, 1.0, 1.0, 1.0, 1.0, 1.0, 1.0, 1.0, 1.0, 1.0, 1.0, 1.0, 1.0, 1.0, 0.3, 1.0, 1.0, 1.0, 1.0, 1.0, 1.0, 1.0, 1.0, 1.0, 1.0, 1.0, 1.0, 1.0, 1.0, 1.0, 1.0, 1.0, 1.0, 1.0, 1.0, 1.0, 1.0, 0.125, 1.0, 1.0, 1.0, 1.0, 1.0, 1.0, 1.0, 1.0, 1.0, 1.0, 1.0, 1.0, 1.0, 1.0, 1.0, 1.0, 1.0, 1.0, 1.0, 0.7, 0.03125, 0.9285714285714286, 0.5714285714285714, 1.0, 0.8571428571428571, 1.0, 0.625, 1.0, 1.0, 1.0, 1.0, 1.0, 1.0, 1.0, 1.0, 1.0, 1.0, 1.0, 1.0, 0.7777777777777778, 1.0, 1.0, 1.0, 1.0, 1.0, 1.0, 1.0, 1.0, 1.0, 1.0, 1.0, 1.0, 1.0, 1.0, 1.0, 1.0, 1.0, 1.0, 1.0, 1.0, 1.0, 1.0, 1.0, 1.0, 1.0, 1.0, 1.0, 1.0, 1.0, 1.0, 1.0, 1.0, 1.0, 1.0, 1.0, 1.0, 1.0, 1.0, 1.0, 1.0, 0.25, 0.2, 0.16666666666666666, 0.4, 1.0, 1.0, 0.375, 1.0, 1.0, 1.0, 1.0, 1.0, 1.0, 1.0, 0.3333333333333333, 0.2, 0.375, 1.0, 1.0, 1.0, 1.0, 1.0, 1.0, 1.0, 1.0, 1.0, 1.0, 1.0, 1.0, 1.0, 1.0, 1.0, 1.0, 1.0, 1.0, 0.3, 1.0, 1.0, 1.0, 1.0, 1.0, 1.0, 1.0, 1.0, 1.0, 1.0, 1.0, 1.0, 1.0, 1.0, 1.0, 1.0, 1.0, 1.0, 1.0, 1.0, 1.0, 1.0, 1.0, 0.3, 1.0, 1.0, 1.0, 1.0, 1.0, 1.0, 1.0, 1.0, 1.0, 1.0, 1.0, 1.0, 1.0, 1.0, 1.0, 1.0, 1.0, 1.0, 1.0, 0.3, 1.0, 1.0, 1.0, 1.0, 1.0, 1.0, 0.3, 1.0, 1.0, 1.0, 1.0, 1.0, 1.0, 1.0, 1.0, 1.0, 1.0, 1.0, 1.0, 1.0, 1.0, 1.0, 1.0, 1.0, 1.0, 1.0, 1.0, 1.0, 1.0, 1.0, 0.3, 1.0, 1.0, 1.0, 1.0, 1.0, 1.0, 1.0, 1.0, 1.0, 1.0, 1.0, 1.0, 1.0, 1.0, 1.0, 1.0, 1.0, 1.0, 1.0, 1.0, 1.0, 1.0, 1.0, 1.0, 1.0, 1.0, 0.3, 1.0, 1.0, 1.0, 1.0, 1.0, 1.0, 1.0, 1.0, 1.0, 1.0, 1.0, 1.0, 1.0, 1.0, 1.0, 1.0, 1.0, 1.0, 1.0, 0.3, 1.0, 1.0, 1.0, 1.0, 1.0, 1.0, 1.0, 1.0, 1.0, 1.0, 1.0, 1.0, 1.0, 1.0, 1.0, 1.0, 1.0, 1.0, 1.0, 1.0, 1.0, 1.0, 1.0, 0.3, 1.0, 1.0, 1.0, 1.0, 1.0, 1.0, 1.0, 1.0, 1.0, 1.0, 1.0, 1.0, 1.0, 1.0, 1.0, 1.0, 1.0, 1.0, 1.0, 1.0, 1.0, 1.0, 0.3, 1.0, 1.0, 1.0, 1.0, 1.0, 0.3, 1.0, 1.0, 1.0, 1.0, 1.0, 1.0, 1.0, 1.0, 1.0, 1.0, 1.0, 1.0, 1.0, 1.0, 1.0, 1.0, 1.0, 1.0, 1.0, 1.0, 0.3, 1.0, 1.0, 1.0, 1.0, 1.0, 1.0, 1.0, 1.0, 1.0, 1.0, 1.0, 1.0, 1.0, 1.0, 1.0, 1.0, 1.0, 1.0, 1.0, 1.0, 1.0, 1.0, 1.0, 0.3, 1.0, 1.0, 1.0, 1.0, 1.0, 1.0, 0.3, 1.0, 1.0, 1.0, 1.0, 1.0, 1.0, 1.0, 1.0, 1.0, 1.0, 1.0, 1.0, 1.0, 1.0, 1.0, 1.0, 1.0, 1.0, 1.0, 1.0, 1.0, 1.0, 0.3, 1.0, 1.0, 1.0, 1.0, 1.0, 1.0, 1.0, 1.0, 1.0, 1.0, 1.0, 1.0, 1.0, 1.0, 1.0, 1.0, 1.0, 1.0, 1.0, 1.0, 1.0, 1.0, 1.0, 1.0, 1.0, 1.0, 1.0, 1.0, 1.0, 0.3, 1.0, 1.0, 1.0, 1.0, 1.0, 1.0, 1.0, 1.0, 1.0, 1.0, 1.0, 1.0, 1.0, 1.0, 1.0, 1.0, 1.0, 1.0, 1.0, 0.3, 1.0, 1.0, 1.0, 1.0, 1.0, 1.0, 1.0, 1.0, 1.0, 1.0, 1.0, 1.0, 1.0, 1.0, 1.0, 1.0, 1.0, 1.0, 1.0, 1.0, 1.0, 1.0, 1.0, 1.0, 0.3, 1.0, 1.0, 1.0, 1.0, 0.3, 1.0, 1.0, 1.0, 1.0, 1.0, 1.0, 1.0, 1.0, 1.0, 1.0, 1.0, 1.0, 1.0, 1.0, 1.0, 1.0, 1.0, 1.0, 1.0, 0.3, 1.0, 1.0, 1.0, 1.0, 1.0, 1.0, 1.0, 1.0, 1.0, 1.0, 1.0, 1.0, 1.0, 1.0, 1.0, 1.0, 1.0, 1.0, 1.0, 1.0, 1.0, 1.0, 1.0, 0.3, 1.0, 1.0, 1.0, 1.0, 1.0, 1.0, 1.0, 1.0, 1.0, 1.0, 1.0, 1.0, 1.0, 1.0, 1.0, 1.0, 1.0, 1.0, 1.0, 1.0, 1.0, 1.0, 1.0, 0.3, 1.0, 1.0, 1.0, 1.0, 1.0, 1.0, 1.0, 1.0, 1.0, 1.0, 1.0, 1.0, 1.0, 1.0, 1.0, 1.0, 1.0, 1.0, 0.3, 1.0, 1.0, 1.0, 1.0, 1.0, 1.0, 0.3, 1.0, 1.0, 1.0, 1.0, 1.0, 1.0, 1.0, 1.0, 1.0, 1.0, 1.0, 1.0, 1.0, 1.0, 1.0, 1.0, 1.0, 1.0, 1.0, 1.0, 1.0, 1.0, 1.0, 0.3, 1.0, 1.0, 1.0, 1.0, 1.0, 1.0, 1.0, 1.0, 1.0, 1.0, 1.0, 1.0, 1.0, 1.0, 1.0, 1.0, 1.0, 1.0, 1.0, 1.0, 1.0, 1.0, 1.0, 0.3, 1.0, 1.0, 1.0, 1.0, 1.0, 1.0, 1.0, 1.0, 1.0, 1.0, 1.0, 1.0, 1.0, 1.0, 1.0, 1.0, 1.0, 1.0, 1.0, 1.0, 1.0, 1.0, 1.0, 0.3, 0.3, 1.0, 1.0, 1.0, 1.0, 1.0, 1.0, 1.0, 1.0, 1.0, 1.0, 1.0, 1.0, 1.0, 1.0, 1.0, 1.0, 1.0, 1.0, 1.0, 1.0, 1.0, 1.0, 1.0, 0.3]\n"
     ]
    }
   ],
   "source": [
    "print score_lines"
   ]
  },
  {
   "cell_type": "code",
   "execution_count": 217,
   "metadata": {
    "collapsed": false
   },
   "outputs": [
    {
     "name": "stdout",
     "output_type": "stream",
     "text": [
      "[456, 457, 459, 460, 461, 462, 463, 464, 465, 466, 467, 468, 469, 470, 471, 472, 473, 474, 475, 487, 488, 489, 490, 491, 492, 526, 534, 535, 536, 537, 541, 545, 553, 559, 560, 564, 565, 566, 567, 568, 569, 570, 571, 573, 574, 578, 579, 580, 581, 582, 591, 592, 593, 594, 599, 600, 601, 602, 614, 649, 653, 657, 658, 660, 661, 662, 666, 673, 675, 677, 678, 681, 682, 684, 744, 746, 749, 750, 757, 769, 771, 773, 776, 777, 778, 780, 782, 784, 785, 787, 788, 789, 790, 791, 794, 795, 796, 798, 799, 800, 801, 802, 805, 807, 809, 814, 815, 816, 817, 818, 819, 820, 822, 823, 824, 825, 826, 827, 828, 829, 830, 831, 832, 833, 838, 840, 842, 843, 844, 847, 848, 849, 850, 854, 857, 858, 859, 860, 861, 862, 863, 869, 871, 872, 873]\n"
     ]
    }
   ],
   "source": [
    "print list_zero_number"
   ]
  },
  {
   "cell_type": "code",
   "execution_count": 221,
   "metadata": {
    "collapsed": false
   },
   "outputs": [
    {
     "name": "stdout",
     "output_type": "stream",
     "text": [
      "['kernel,btrfs,xor', 'kernel,xor', 'kernel,raid,pq', 'kernel,raid,pq', 'kernel,btrfs,xor,raid,pq,ufs,qnx', 'kernel,ufs,ufs,qnx', 'kernel,qnx,hfsplus', 'kernel,hfsplus,hfs', 'kernel,hfs,minix', 'kernel,minix', 'kernel,ntfs,msdos', 'kernel,ntfs,hfsplus,hfs', 'kernel,jfs', 'kernel,minix', 'kernel,msdos', 'kernel,ntfs', 'kernel,jfs,xfs', 'kernel,msdos,jfs,xfs', 'kernel,xfs,libcrc,c', 'kernel,vhost,vhost,vhost', 'kernel,macvtap,macvtap', 'kernel,macvtap', 'kernel,macvlan', 'kernel,macvlan', 'kernel,macvlan', 'kernel,coretemp,coretemp', 'kernel,snd,snd', 'kernel,kvm,kvm', 'kernel,soundcore', 'kernel,soundcore', 'kernel,irqbypass,joydev', 'kernel,nfit,nfit', 'kernel,ppdev', 'kernel,vmxnet', 'kernel,vmxnet', 'kernel,usbhid', 'kernel,usbhid', 'kernel,usbhid', 'kernel,hid', 'kernel,hid', 'kernel,hid', 'kernel,vmwgfx', 'kernel,vmwgfx', 'kernel,ttm', 'kernel,ttm', 'kernel,psmouse', 'kernel,psmouse', 'kernel,psmouse', 'kernel,syscopyarea', 'kernel,syscopyarea', 'kernel,drm', 'kernel,mii', 'kernel,mii', 'kernel,mptscsih', 'kernel,fjes', 'kernel,fjes', 'kernel', 'kernel', 'kernel', 'kernel,ab,d', 'kernel,e', 'kernel', 'kernel', 'kernel', 'kernel', 'kernel,dc', 'kernel', 'kernel', 'kernel', 'kernel', 'kernel', 'kernel,e', 'kernel', 'kernel', 'kernel', 'kernel', 'kernel', 'kernel,eb', 'kernel', 'kernel', 'kernel', 'kernel,ff', 'kernel', 'kernel', 'kernel', 'kernel', 'kernel', 'kernel', 'kernel', 'kernel', 'kernel', 'kernel', 'kernel', 'kernel', 'kernel', 'kernel', 'kernel', 'kernel', 'kernel', 'kernel', 'kernel', 'kernel', 'kernel', 'kernel', 'kernel', 'kernel,e', 'kernel', 'kernel', 'kernel', 'kernel', 'kernel', 'kernel', 'kernel', 'kernel', 'kernel,fb', 'kernel', 'kernel', 'kernel', 'kernel', 'kernel', 'kernel', 'kernel', 'kernel', 'kernel', 'kernel', 'kernel', 'kernel,e', 'kernel', 'kernel', 'kernel', 'kernel,bc', 'kernel', 'kernel', 'kernel', 'kernel', 'kernel', 'kernel', 'kernel', 'kernel', 'kernel', 'kernel', 'kernel', 'kernel,mptscsih,ioc,attempting,task,abort,sc,ffff,de', 'kernel,sd,sda,tag,CDB,Read,b', 'kernel,mptscsih,ioc,task,abort,SUCCESS,rv,sc,ffff,de']\n"
     ]
    }
   ],
   "source": [
    "print list_zero_line_content"
   ]
  },
  {
   "cell_type": "code",
   "execution_count": 222,
   "metadata": {
    "collapsed": false
   },
   "outputs": [
    {
     "name": "stdout",
     "output_type": "stream",
     "text": [
      "456\n",
      "kernel,btrfs,xor\n",
      "457\n",
      "kernel,xor\n",
      "459\n",
      "kernel,raid,pq\n",
      "460\n",
      "kernel,raid,pq\n",
      "461\n",
      "kernel,btrfs,xor,raid,pq,ufs,qnx\n",
      "462\n",
      "kernel,ufs,ufs,qnx\n",
      "463\n",
      "kernel,qnx,hfsplus\n",
      "464\n",
      "kernel,hfsplus,hfs\n",
      "465\n",
      "kernel,hfs,minix\n",
      "466\n",
      "kernel,minix\n",
      "467\n",
      "kernel,ntfs,msdos\n",
      "468\n",
      "kernel,ntfs,hfsplus,hfs\n",
      "469\n",
      "kernel,jfs\n",
      "470\n",
      "kernel,minix\n",
      "471\n",
      "kernel,msdos\n",
      "472\n",
      "kernel,ntfs\n",
      "473\n",
      "kernel,jfs,xfs\n",
      "474\n",
      "kernel,msdos,jfs,xfs\n",
      "475\n",
      "kernel,xfs,libcrc,c\n",
      "487\n",
      "kernel,vhost,vhost,vhost\n",
      "488\n",
      "kernel,macvtap,macvtap\n",
      "489\n",
      "kernel,macvtap\n",
      "490\n",
      "kernel,macvlan\n",
      "491\n",
      "kernel,macvlan\n",
      "492\n",
      "kernel,macvlan\n",
      "526\n",
      "kernel,coretemp,coretemp\n",
      "534\n",
      "kernel,snd,snd\n",
      "535\n",
      "kernel,kvm,kvm\n",
      "536\n",
      "kernel,soundcore\n",
      "537\n",
      "kernel,soundcore\n",
      "541\n",
      "kernel,irqbypass,joydev\n",
      "545\n",
      "kernel,nfit,nfit\n",
      "553\n",
      "kernel,ppdev\n",
      "559\n",
      "kernel,vmxnet\n",
      "560\n",
      "kernel,vmxnet\n",
      "564\n",
      "kernel,usbhid\n",
      "565\n",
      "kernel,usbhid\n",
      "566\n",
      "kernel,usbhid\n",
      "567\n",
      "kernel,hid\n",
      "568\n",
      "kernel,hid\n",
      "569\n",
      "kernel,hid\n",
      "570\n",
      "kernel,vmwgfx\n",
      "571\n",
      "kernel,vmwgfx\n",
      "573\n",
      "kernel,ttm\n",
      "574\n",
      "kernel,ttm\n",
      "578\n",
      "kernel,psmouse\n",
      "579\n",
      "kernel,psmouse\n",
      "580\n",
      "kernel,psmouse\n",
      "581\n",
      "kernel,syscopyarea\n",
      "582\n",
      "kernel,syscopyarea\n",
      "591\n",
      "kernel,drm\n",
      "592\n",
      "kernel,mii\n",
      "593\n",
      "kernel,mii\n",
      "594\n",
      "kernel,mptscsih\n",
      "599\n",
      "kernel,fjes\n",
      "600\n",
      "kernel,fjes\n",
      "601\n",
      "kernel\n",
      "602\n",
      "kernel\n",
      "614\n",
      "kernel\n",
      "649\n",
      "kernel,ab,d\n",
      "653\n",
      "kernel,e\n",
      "657\n",
      "kernel\n",
      "658\n",
      "kernel\n",
      "660\n",
      "kernel\n",
      "661\n",
      "kernel\n",
      "662\n",
      "kernel,dc\n",
      "666\n",
      "kernel\n",
      "673\n",
      "kernel\n",
      "675\n",
      "kernel\n",
      "677\n",
      "kernel\n",
      "678\n",
      "kernel\n",
      "681\n",
      "kernel,e\n",
      "682\n",
      "kernel\n",
      "684\n",
      "kernel\n",
      "744\n",
      "kernel\n",
      "746\n",
      "kernel\n",
      "749\n",
      "kernel\n",
      "750\n",
      "kernel,eb\n",
      "757\n",
      "kernel\n",
      "769\n",
      "kernel\n",
      "771\n",
      "kernel\n",
      "773\n",
      "kernel,ff\n",
      "776\n",
      "kernel\n",
      "777\n",
      "kernel\n",
      "778\n",
      "kernel\n",
      "780\n",
      "kernel\n",
      "782\n",
      "kernel\n",
      "784\n",
      "kernel\n",
      "785\n",
      "kernel\n",
      "787\n",
      "kernel\n",
      "788\n",
      "kernel\n",
      "789\n",
      "kernel\n",
      "790\n",
      "kernel\n",
      "791\n",
      "kernel\n",
      "794\n",
      "kernel\n",
      "795\n",
      "kernel\n",
      "796\n",
      "kernel\n",
      "798\n",
      "kernel\n",
      "799\n",
      "kernel\n",
      "800\n",
      "kernel\n",
      "801\n",
      "kernel\n",
      "802\n",
      "kernel\n",
      "805\n",
      "kernel\n",
      "807\n",
      "kernel\n",
      "809\n",
      "kernel\n",
      "814\n",
      "kernel,e\n",
      "815\n",
      "kernel\n",
      "816\n",
      "kernel\n",
      "817\n",
      "kernel\n",
      "818\n",
      "kernel\n",
      "819\n",
      "kernel\n",
      "820\n",
      "kernel\n",
      "822\n",
      "kernel\n",
      "823\n",
      "kernel\n",
      "824\n",
      "kernel,fb\n",
      "825\n",
      "kernel\n",
      "826\n",
      "kernel\n",
      "827\n",
      "kernel\n",
      "828\n",
      "kernel\n",
      "829\n",
      "kernel\n",
      "830\n",
      "kernel\n",
      "831\n",
      "kernel\n",
      "832\n",
      "kernel\n",
      "833\n",
      "kernel\n",
      "838\n",
      "kernel\n",
      "840\n",
      "kernel\n",
      "842\n",
      "kernel,e\n",
      "843\n",
      "kernel\n",
      "844\n",
      "kernel\n",
      "847\n",
      "kernel\n",
      "848\n",
      "kernel,bc\n",
      "849\n",
      "kernel\n",
      "850\n",
      "kernel\n",
      "854\n",
      "kernel\n",
      "857\n",
      "kernel\n",
      "858\n",
      "kernel\n",
      "859\n",
      "kernel\n",
      "860\n",
      "kernel\n",
      "861\n",
      "kernel\n",
      "862\n",
      "kernel\n",
      "863\n",
      "kernel\n",
      "869\n",
      "kernel\n",
      "871\n",
      "kernel,mptscsih,ioc,attempting,task,abort,sc,ffff,de\n",
      "872\n",
      "kernel,sd,sda,tag,CDB,Read,b\n",
      "873\n",
      "kernel,mptscsih,ioc,task,abort,SUCCESS,rv,sc,ffff,de\n"
     ]
    }
   ],
   "source": [
    "len_list = len(list_zero_line_content)\n",
    "for i in range(0,len_list):\n",
    "    print list_zero_number[i]\n",
    "    print list_zero_line_content[i]"
   ]
  },
  {
   "cell_type": "code",
   "execution_count": null,
   "metadata": {
    "collapsed": true
   },
   "outputs": [],
   "source": []
  },
  {
   "cell_type": "code",
   "execution_count": null,
   "metadata": {
    "collapsed": true
   },
   "outputs": [],
   "source": []
  },
  {
   "cell_type": "code",
   "execution_count": null,
   "metadata": {
    "collapsed": true
   },
   "outputs": [],
   "source": []
  },
  {
   "cell_type": "code",
   "execution_count": null,
   "metadata": {
    "collapsed": true
   },
   "outputs": [],
   "source": []
  },
  {
   "cell_type": "code",
   "execution_count": 10,
   "metadata": {
    "collapsed": true
   },
   "outputs": [],
   "source": [
    "inputPath_normal = '/user/spark/input/log_normal'"
   ]
  },
  {
   "cell_type": "code",
   "execution_count": 11,
   "metadata": {
    "collapsed": true
   },
   "outputs": [],
   "source": [
    "#red_wordcount = Main_Normal_Case(inputPath_normal)"
   ]
  },
  {
   "cell_type": "code",
   "execution_count": 16,
   "metadata": {
    "collapsed": false
   },
   "outputs": [
    {
     "data": {
      "text/plain": [
       "[(u'', 483648),\n",
       " (u'virtual', 11546),\n",
       " (u'jerry', 11365),\n",
       " (u'Jan', 11364),\n",
       " (u'machine', 11364),\n",
       " (u'NetworkManager', 4390),\n",
       " (u'info', 4327)]"
      ]
     },
     "execution_count": 16,
     "metadata": {},
     "output_type": "execute_result"
    }
   ],
   "source": [
    "red_wordcount.take(7)"
   ]
  },
  {
   "cell_type": "code",
   "execution_count": 25,
   "metadata": {
    "collapsed": true
   },
   "outputs": [],
   "source": [
    "rdd_map_filiter_top = Main_Normal_Case(inputPath_normal)"
   ]
  },
  {
   "cell_type": "code",
   "execution_count": 26,
   "metadata": {
    "collapsed": false
   },
   "outputs": [
    {
     "data": {
      "text/plain": [
       "['anacron,Job,cron,daily,terminated',\n",
       " 'anacron,Normal,exit,job,run',\n",
       " 'dhclient,DHCPREQUEST,of,on,ens,to,port,xid,x,da,d,b',\n",
       " 'dhclient,DHCPACK,of,from',\n",
       " 'NetworkManager,info,address',\n",
       " 'NetworkManager,info,plen',\n",
       " 'NetworkManager,info,gateway']"
      ]
     },
     "execution_count": 26,
     "metadata": {},
     "output_type": "execute_result"
    }
   ],
   "source": [
    "rdd_map_filiter_top.take(7)"
   ]
  },
  {
   "cell_type": "code",
   "execution_count": 82,
   "metadata": {
    "collapsed": true
   },
   "outputs": [],
   "source": [
    "col_rdd = rdd_map_filiter_top.collect()"
   ]
  },
  {
   "cell_type": "code",
   "execution_count": 121,
   "metadata": {
    "collapsed": false
   },
   "outputs": [
    {
     "name": "stdout",
     "output_type": "stream",
     "text": [
      "['audit', 'domain', 'level', 'wins', 'address', 'msg', 'devices', 'server', 'policy', 'manager', 'dhcp', 'dns', 'plen', 'device', 'NetworkManager', 'nameserver', 'keyfile', 'gateway', 'lease']\n"
     ]
    }
   ],
   "source": [
    "dist_text = {}\n",
    "y = 0\n",
    "for str_line in col_rdd:\n",
    "    line = str_line.split(',')\n",
    "    for i in range(0,len(line)):\n",
    "        now = line[i]\n",
    "        if now not in dist_text:\n",
    "            dist_text[now] = []\n",
    "        if i == 0 and i != len(line) -1:\n",
    "            dist_text[now].append( line[i+1] )\n",
    "        elif i == len(line) -1 :\n",
    "            dist_text[now].append( line[i-1] )\n",
    "        else:\n",
    "            dist_text[now].append( line[i+1] )\n",
    "            dist_text[now].append( line[i-1] )\n",
    "\n",
    "for text in dist_text:\n",
    "    set_dist = set(dist_text[text])\n",
    "    dist_text[text] = list(set_dist)\n",
    "\n",
    "    \n",
    "\n",
    "print dist_text['info']"
   ]
  },
  {
   "cell_type": "code",
   "execution_count": 123,
   "metadata": {
    "collapsed": false
   },
   "outputs": [],
   "source": [
    "table = gen_relative_table_by_each_word(rdd_map_filiter_top)"
   ]
  },
  {
   "cell_type": "code",
   "execution_count": 189,
   "metadata": {
    "collapsed": false
   },
   "outputs": [
    {
     "data": {
      "text/plain": [
       "['info']"
      ]
     },
     "execution_count": 189,
     "metadata": {},
     "output_type": "execute_result"
    }
   ],
   "source": [
    "table['gateway']"
   ]
  },
  {
   "cell_type": "code",
   "execution_count": 172,
   "metadata": {
    "collapsed": true
   },
   "outputs": [],
   "source": [
    "col_rdd = rdd_map_filiter_top_com.collect()"
   ]
  },
  {
   "cell_type": "code",
   "execution_count": 173,
   "metadata": {
    "collapsed": true
   },
   "outputs": [],
   "source": [
    "relative_table = table"
   ]
  }
 ],
 "metadata": {
  "kernelspec": {
   "display_name": "Python 2",
   "language": "python",
   "name": "python2"
  },
  "language_info": {
   "codemirror_mode": {
    "name": "ipython",
    "version": 2
   },
   "file_extension": ".py",
   "mimetype": "text/x-python",
   "name": "python",
   "nbconvert_exporter": "python",
   "pygments_lexer": "ipython2",
   "version": "2.7.5"
  }
 },
 "nbformat": 4,
 "nbformat_minor": 2
}

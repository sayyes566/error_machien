{
 "cells": [
  {
   "cell_type": "code",
   "execution_count": 1,
   "metadata": {
    "collapsed": true
   },
   "outputs": [],
   "source": [
    "import tensorflow as tf"
   ]
  },
  {
   "cell_type": "code",
   "execution_count": 2,
   "metadata": {
    "collapsed": true
   },
   "outputs": [],
   "source": [
    "import numpy as np"
   ]
  },
  {
   "cell_type": "markdown",
   "metadata": {},
   "source": [
    "# 預測weight 接近 0.1 ; biases 接近0.3"
   ]
  },
  {
   "cell_type": "markdown",
   "metadata": {},
   "source": [
    "# create data"
   ]
  },
  {
   "cell_type": "code",
   "execution_count": 7,
   "metadata": {
    "collapsed": false
   },
   "outputs": [],
   "source": [
    "x_data = np.random.rand(100)"
   ]
  },
  {
   "cell_type": "code",
   "execution_count": 8,
   "metadata": {
    "collapsed": false
   },
   "outputs": [
    {
     "data": {
      "text/plain": [
       "array([ 0.78792322,  0.50927997,  0.01372911,  0.94033968,  0.9810459 ,\n",
       "        0.67907244,  0.90433407,  0.95877743,  0.04821847,  0.69312143,\n",
       "        0.49577993,  0.53835958,  0.81376934,  0.59168434,  0.31012487,\n",
       "        0.99847531,  0.47813752,  0.44610816,  0.04519994,  0.98068303,\n",
       "        0.43284756,  0.45346865,  0.25028527,  0.92859387,  0.09587672,\n",
       "        0.49399045,  0.54853159,  0.19245219,  0.15460339,  0.9499951 ,\n",
       "        0.44810617,  0.65645289,  0.99936086,  0.35545558,  0.03586614,\n",
       "        0.60686225,  0.97404218,  0.67884296,  0.96640438,  0.16912526,\n",
       "        0.4030968 ,  0.252505  ,  0.03884465,  0.87698674,  0.72527558,\n",
       "        0.14430849,  0.66412866,  0.85723644,  0.94160354,  0.84929049,\n",
       "        0.09876853,  0.93970197,  0.59682947,  0.06240135,  0.71203595,\n",
       "        0.21414097,  0.79773676,  0.92072052,  0.85372293,  0.35435122,\n",
       "        0.53371871,  0.68302244,  0.61561841,  0.14743535,  0.80414057,\n",
       "        0.73975217,  0.49939969,  0.57261229,  0.61051732,  0.13305549,\n",
       "        0.88683045,  0.37462226,  0.60979635,  0.11820496,  0.35626519,\n",
       "        0.17839336,  0.16635968,  0.47262084,  0.00306667,  0.52063525,\n",
       "        0.75046384,  0.67614746,  0.99382585,  0.2649371 ,  0.35368317,\n",
       "        0.22610131,  0.73922461,  0.38704845,  0.32452226,  0.60939699,\n",
       "        0.95581532,  0.79433626,  0.72886765,  0.70540977,  0.70103639,\n",
       "        0.43559787,  0.12966852,  0.18081114,  0.03345737,  0.52337706], dtype=float32)"
      ]
     },
     "execution_count": 8,
     "metadata": {},
     "output_type": "execute_result"
    }
   ],
   "source": [
    "x_data.astype(np.float32)"
   ]
  },
  {
   "cell_type": "code",
   "execution_count": 9,
   "metadata": {
    "collapsed": true
   },
   "outputs": [],
   "source": [
    "y_data = x_data*0.1 + 0.3"
   ]
  },
  {
   "cell_type": "markdown",
   "metadata": {},
   "source": [
    "# Create tensorflow structure start "
   ]
  },
  {
   "cell_type": "code",
   "execution_count": 10,
   "metadata": {
    "collapsed": true
   },
   "outputs": [],
   "source": [
    "Weights = tf.Variable(tf.random_uniform([1], -1.0, 1.0)) # w 是一維的結構; init範圍-1.0~1.0"
   ]
  },
  {
   "cell_type": "code",
   "execution_count": 11,
   "metadata": {
    "collapsed": true
   },
   "outputs": [],
   "source": [
    "biases = tf.Variable(tf.zeros([1]))"
   ]
  },
  {
   "cell_type": "code",
   "execution_count": 12,
   "metadata": {
    "collapsed": true
   },
   "outputs": [],
   "source": [
    "y = Weights * x_data + biases"
   ]
  },
  {
   "cell_type": "code",
   "execution_count": 13,
   "metadata": {
    "collapsed": true
   },
   "outputs": [],
   "source": [
    "loss = tf.reduce_mean(tf.square(y-y_data)) # 誤差"
   ]
  },
  {
   "cell_type": "code",
   "execution_count": 14,
   "metadata": {
    "collapsed": true
   },
   "outputs": [],
   "source": [
    "optimizer = tf.train.GradientDescentOptimizer(0.5) #減少誤差"
   ]
  },
  {
   "cell_type": "code",
   "execution_count": 15,
   "metadata": {
    "collapsed": true
   },
   "outputs": [],
   "source": [
    "train = optimizer.minimize(loss)"
   ]
  },
  {
   "cell_type": "code",
   "execution_count": 17,
   "metadata": {
    "collapsed": false
   },
   "outputs": [],
   "source": [
    "init = tf.global_variables_initializer()"
   ]
  },
  {
   "cell_type": "code",
   "execution_count": 18,
   "metadata": {
    "collapsed": true
   },
   "outputs": [],
   "source": [
    "sess = tf.Session()"
   ]
  },
  {
   "cell_type": "code",
   "execution_count": 19,
   "metadata": {
    "collapsed": true
   },
   "outputs": [],
   "source": [
    "sess.run(init)"
   ]
  },
  {
   "cell_type": "code",
   "execution_count": null,
   "metadata": {
    "collapsed": true
   },
   "outputs": [],
   "source": []
  },
  {
   "cell_type": "code",
   "execution_count": 24,
   "metadata": {
    "collapsed": false
   },
   "outputs": [
    {
     "name": "stdout",
     "output_type": "stream",
     "text": [
      "(0, array([ 0.10000004], dtype=float32), array([ -1.97837284e-08], dtype=float32))\n",
      "(20, array([ 0.10000004], dtype=float32), array([ -1.97790602e-08], dtype=float32))\n",
      "(40, array([ 0.10000004], dtype=float32), array([ -1.97883612e-08], dtype=float32))\n",
      "(60, array([ 0.10000004], dtype=float32), array([ -1.97836929e-08], dtype=float32))\n",
      "(80, array([ 0.10000004], dtype=float32), array([ -1.97790246e-08], dtype=float32))\n",
      "(100, array([ 0.10000004], dtype=float32), array([ -1.97883256e-08], dtype=float32))\n",
      "(120, array([ 0.10000004], dtype=float32), array([ -1.97836574e-08], dtype=float32))\n",
      "(140, array([ 0.10000004], dtype=float32), array([ -1.97789891e-08], dtype=float32))\n",
      "(160, array([ 0.10000004], dtype=float32), array([ -1.97882901e-08], dtype=float32))\n",
      "(180, array([ 0.10000004], dtype=float32), array([ -1.97836219e-08], dtype=float32))\n",
      "(200, array([ 0.10000004], dtype=float32), array([ -1.97789536e-08], dtype=float32))\n"
     ]
    }
   ],
   "source": [
    "for step in range(201):\n",
    "    sess.run(train)\n",
    "    if step % 20 == 0:\n",
    "        print(step,sess.run(Weights),sess.run(biases))"
   ]
  },
  {
   "cell_type": "code",
   "execution_count": null,
   "metadata": {
    "collapsed": true
   },
   "outputs": [],
   "source": []
  }
 ],
 "metadata": {
  "kernelspec": {
   "display_name": "Python 2",
   "language": "python",
   "name": "python2"
  },
  "language_info": {
   "codemirror_mode": {
    "name": "ipython",
    "version": 2
   },
   "file_extension": ".py",
   "mimetype": "text/x-python",
   "name": "python",
   "nbconvert_exporter": "python",
   "pygments_lexer": "ipython2",
   "version": "2.7.5"
  }
 },
 "nbformat": 4,
 "nbformat_minor": 2
}

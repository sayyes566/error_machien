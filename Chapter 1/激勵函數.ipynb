{
 "cells": [
  {
   "cell_type": "markdown",
   "metadata": {},
   "source": [
    "### activation function"
   ]
  },
  {
   "cell_type": "markdown",
   "metadata": {},
   "source": [
    "### Problem:\n",
    "     Lineaer:\n",
    "        * y = Wx (y=預測, x=data, W=參數)\n",
    "     Nonlineaer:\n",
    "        * y = AF(Wx) (AF=激勵函數;用於非線性,可自訂,但需可微分)\n",
    "        AF():\n",
    "          可把線性轉為非線性\n",
    "          有relu, sigmoid, tanh 這幾種函式\n",
    "          需可微分: 在誤差反向傳遞時才可以傳遞迴去\n",
    "          用在太多層的NN會有問題, 涉及到梯度爆炸, 梯度消失\n",
    "          sofsign, sigmoid用在classfication\n",
    "          "
   ]
  },
  {
   "cell_type": "code",
   "execution_count": 1,
   "metadata": {
    "collapsed": true
   },
   "outputs": [],
   "source": [
    "import tensorflow as tf"
   ]
  },
  {
   "cell_type": "code",
   "execution_count": 2,
   "metadata": {
    "collapsed": true
   },
   "outputs": [],
   "source": [
    "input1 = tf.placeholder(tf.float32)"
   ]
  },
  {
   "cell_type": "code",
   "execution_count": null,
   "metadata": {
    "collapsed": true
   },
   "outputs": [],
   "source": []
  }
 ],
 "metadata": {
  "kernelspec": {
   "display_name": "Python 2",
   "language": "python",
   "name": "python2"
  },
  "language_info": {
   "codemirror_mode": {
    "name": "ipython",
    "version": 2
   },
   "file_extension": ".py",
   "mimetype": "text/x-python",
   "name": "python",
   "nbconvert_exporter": "python",
   "pygments_lexer": "ipython2",
   "version": "2.7.13"
  }
 },
 "nbformat": 4,
 "nbformat_minor": 2
}

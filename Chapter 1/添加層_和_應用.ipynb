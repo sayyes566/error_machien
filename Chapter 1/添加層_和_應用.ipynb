{
 "cells": [
  {
   "cell_type": "markdown",
   "metadata": {},
   "source": [
    "# add layer"
   ]
  },
  {
   "cell_type": "code",
   "execution_count": 27,
   "metadata": {
    "collapsed": true
   },
   "outputs": [],
   "source": [
    "import tensorflow as tf\n",
    "import numpy as np"
   ]
  },
  {
   "cell_type": "markdown",
   "metadata": {},
   "source": [
    "### 加入一個神經層"
   ]
  },
  {
   "cell_type": "code",
   "execution_count": 38,
   "metadata": {
    "collapsed": true
   },
   "outputs": [],
   "source": [
    "def add_layer(inputs, in_size, out_size, activation_function=None):\n",
    "    '''\n",
    "    add_layer(inputs, in_size, out_size, activation_function=None)\n",
    "    '''\n",
    "    Weights = tf.Variable(tf.random_normal([in_size, out_size])) #[行,列]\n",
    "    Biases = tf.Variable(tf.zeros([1, out_size]) + 0.1) # ML推薦Biase不為0\n",
    "    Wx_plus_b = tf.matmul(inputs, Weights) + Biases # weights * data + biases\n",
    "    if activation_function is None: #線性function\n",
    "        outputs = Wx_plus_b\n",
    "    else:\n",
    "        outputs = activation_function(Wx_plus_b)\n",
    "    return outputs"
   ]
  },
  {
   "cell_type": "code",
   "execution_count": 29,
   "metadata": {
    "collapsed": true
   },
   "outputs": [],
   "source": [
    "# -1~1的區間有300個單位(有三百個例子)\n",
    "# 加上維度\n",
    "x_data = np.linspace(-1,1,300)[:, np.newaxis]"
   ]
  },
  {
   "cell_type": "code",
   "execution_count": 30,
   "metadata": {
    "collapsed": true
   },
   "outputs": [],
   "source": [
    "# 故意製造一些不規則的點在曲線周圍\n",
    "# normal(loc=0.0, scale=1.0, size=None)\n",
    "noise = np.random.normal(0, 0.05, x_data.shape)"
   ]
  },
  {
   "cell_type": "code",
   "execution_count": null,
   "metadata": {
    "collapsed": false
   },
   "outputs": [],
   "source": []
  },
  {
   "cell_type": "code",
   "execution_count": 31,
   "metadata": {
    "collapsed": true
   },
   "outputs": [],
   "source": [
    "y_data = np.square(x_data) - 0.5 + noise"
   ]
  },
  {
   "cell_type": "code",
   "execution_count": 32,
   "metadata": {
    "collapsed": true
   },
   "outputs": [],
   "source": [
    "### 1 input layer (input nodes by data number; 1 node)\n",
    "### 1 hidden layer (10 nodes)\n",
    "### 1 output (1 node)"
   ]
  },
  {
   "cell_type": "code",
   "execution_count": 33,
   "metadata": {
    "collapsed": false
   },
   "outputs": [
    {
     "name": "stdout",
     "output_type": "stream",
     "text": [
      "\n",
      "    add_layer(inputs, in_size, out_size, activation_function=None)\n",
      "    \n"
     ]
    }
   ],
   "source": [
    "print add_layer.__doc__"
   ]
  },
  {
   "cell_type": "code",
   "execution_count": 34,
   "metadata": {
    "collapsed": false
   },
   "outputs": [],
   "source": [
    "#tf.placeholder(tf.float32, shape=(1024, 1024))\n",
    "xs = tf.placeholder(tf.float32)"
   ]
  },
  {
   "cell_type": "code",
   "execution_count": 35,
   "metadata": {
    "collapsed": false
   },
   "outputs": [],
   "source": [
    "ys = tf.placeholder(tf.float32)"
   ]
  },
  {
   "cell_type": "code",
   "execution_count": 39,
   "metadata": {
    "collapsed": false
   },
   "outputs": [],
   "source": [
    "# 第一層, 1個input 有10個神經元\n",
    "# relu 是一個x <0, y = 0; x = 1, y=1 的線性\n",
    "#l1 = add_layer(x_data, 1, 10, activation_function=tf.nn.relu)\n",
    "l1 = add_layer(xs, 1, 10, activation_function=tf.nn.relu)"
   ]
  },
  {
   "cell_type": "code",
   "execution_count": 40,
   "metadata": {
    "collapsed": false
   },
   "outputs": [],
   "source": [
    "# hidden layer \n",
    "predition = add_layer(l1, 10, 1, activation_function=None)"
   ]
  },
  {
   "cell_type": "code",
   "execution_count": 42,
   "metadata": {
    "collapsed": false
   },
   "outputs": [],
   "source": [
    "# mean(sum(spare)) ; 平均值(每個例子求合(誤差平方)\n",
    "#loss = tf.reduce_mean(tf.reduce_sum(tf.square(y_data - prediton),\n",
    "#                     reduction_indices=[1]))\n",
    "loss = tf.reduce_mean(tf.reduce_sum(tf.square(ys - predition),\n",
    "                     reduction_indices=[1]))"
   ]
  },
  {
   "cell_type": "code",
   "execution_count": 43,
   "metadata": {
    "collapsed": false
   },
   "outputs": [],
   "source": [
    "#學習效率0.1, 最小化誤差\n",
    "train_step = tf.train.GradientDescentOptimizer(0.1).minimize(loss) "
   ]
  },
  {
   "cell_type": "code",
   "execution_count": 44,
   "metadata": {
    "collapsed": true
   },
   "outputs": [],
   "source": [
    "init = tf.global_variables_initializer()"
   ]
  },
  {
   "cell_type": "code",
   "execution_count": 48,
   "metadata": {
    "collapsed": false
   },
   "outputs": [
    {
     "name": "stdout",
     "output_type": "stream",
     "text": [
      "(0, 0.43411744)\n",
      "(50, 0.047462642)\n",
      "(100, 0.031755976)\n",
      "(150, 0.022313617)\n",
      "(200, 0.016418852)\n",
      "(250, 0.012976847)\n",
      "(300, 0.011031861)\n",
      "(350, 0.0098957587)\n",
      "(400, 0.0091902474)\n",
      "(450, 0.0087117841)\n",
      "(500, 0.0083493916)\n",
      "(550, 0.0080553452)\n",
      "(600, 0.0077971905)\n",
      "(650, 0.0075624245)\n",
      "(700, 0.0073445733)\n",
      "(750, 0.0071430141)\n",
      "(800, 0.0069522518)\n",
      "(850, 0.0067678052)\n",
      "(900, 0.0065951119)\n",
      "(950, 0.0064341235)\n",
      "(1000, 0.0062780599)\n"
     ]
    }
   ],
   "source": [
    "with tf.Session() as sess:\n",
    "    sess.run(init)\n",
    "    for i in range(1001):\n",
    "        sess.run(train_step, feed_dict={xs:x_data, ys:y_data})\n",
    "        if i % 50 == 0:\n",
    "            print(i, sess.run(loss, feed_dict={xs:x_data, ys:y_data}))"
   ]
  },
  {
   "cell_type": "code",
   "execution_count": null,
   "metadata": {
    "collapsed": true
   },
   "outputs": [],
   "source": [
    "## 隨著學習, 誤差有在減少"
   ]
  }
 ],
 "metadata": {
  "kernelspec": {
   "display_name": "Python 2",
   "language": "python",
   "name": "python2"
  },
  "language_info": {
   "codemirror_mode": {
    "name": "ipython",
    "version": 2
   },
   "file_extension": ".py",
   "mimetype": "text/x-python",
   "name": "python",
   "nbconvert_exporter": "python",
   "pygments_lexer": "ipython2",
   "version": "2.7.13"
  }
 },
 "nbformat": 4,
 "nbformat_minor": 2
}
